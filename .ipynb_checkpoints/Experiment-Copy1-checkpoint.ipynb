{
 "cells": [
  {
   "cell_type": "code",
   "execution_count": 1,
   "metadata": {},
   "outputs": [],
   "source": [
    "import tensorflow as tf"
   ]
  },
  {
   "cell_type": "code",
   "execution_count": null,
   "metadata": {},
   "outputs": [],
   "source": [
    "import matplotlib.pyplot as plt\n",
    "import numpy as np\n",
    "import pandas as pd\n",
    "\n",
    "from sklearn.model_selection import train_test_split\n",
    "from sklearn.model_selection import cross_val_score\n",
    "from sklearn.model_selection import KFold\n",
    "from sklearn.pipeline import Pipeline\n",
    "from sklearn.preprocessing import MinMaxScaler\n",
    "from tensorflow.python.keras.models import Sequential\n",
    "from tensorflow.python.keras.layers import Dense\n",
    "from tensorflow.python.keras.wrappers.scikit_learn import KerasRegressor"
   ]
  },
  {
   "cell_type": "code",
   "execution_count": 38,
   "metadata": {},
   "outputs": [
    {
     "data": {
      "text/plain": [
       "16786"
      ]
     },
     "execution_count": 38,
     "metadata": {},
     "output_type": "execute_result"
    }
   ],
   "source": [
    "def invert(d):\n",
    "    return dict( (v,k) for k in d for v in d[k] )\n",
    "\n",
    "ldict_f = open('../ccg2lambda/dict.p', 'rb')\n",
    "lemma_dict = pkl.load(ldict_f)\n",
    "word_dict = invert(lemma_dict)\n",
    "\n",
    "word_dict.__len__()"
   ]
  },
  {
   "cell_type": "markdown",
   "metadata": {},
   "source": [
    "# Clean and visualize data set"
   ]
  },
  {
   "cell_type": "code",
   "execution_count": 174,
   "metadata": {},
   "outputs": [
    {
     "name": "stdout",
     "output_type": "stream",
     "text": [
      "Stats:\n",
      "N(X) == N(y) == 38914\n",
      "errs: 1056\n",
      "Clean data (N = 37858) ratio: 97.28632368813281%\n",
      "\n",
      "\n",
      "X: ['all men drink juice']\n",
      "\n",
      "\n",
      "y: ['all x1.(_man(x1) -> exists x2.(_juice(x2) & _drink(x1,x2)))']\n"
     ]
    }
   ],
   "source": [
    "invalid_chars = set([':', '+', '#', '@', 'Ö', 'á', 'ä', 'é', 'í', 'ñ', 'ó', 'ö', 'ú', 'ā', 'Ć', 'ć', 'ʻ', '́', 'е', 'н', 'о', 'п', 'у', 'ш'])\n",
    "\n",
    "def mark_if_faulty(line, X=False):\n",
    "    if '\\\\F' in line or 'TrueP' in line or '\\\\x' in line:\n",
    "        return 'syntax_error'\n",
    "    if any((c in invalid_chars) for c in line):\n",
    "        return 'syntax_error'\n",
    "    if X:\n",
    "        if '(' in line:\n",
    "            return 'syntax_error'\n",
    "        if '_' in line and line != 'syntax_error':\n",
    "            return 'syntax_error'\n",
    "    return line if X else line\n",
    "\n",
    "X_dir = 'dat/clean/'\n",
    "y_dir = 'dat/trans/'\n",
    "X = []\n",
    "y = []\n",
    "\n",
    "for i in range(0, 13):\n",
    "    X_fname = X_dir + f'concordance_{i}_clean.txt'\n",
    "    y_name = y_dir + f'concordance_{i}_clean.lam'\n",
    "    \n",
    "    with open(X_fname) as Xf, open(y_name) as yf:\n",
    "        X = X + list(mark_if_faulty(line[0].lower() + line[1:-1], True) for line in (l.strip() for l in Xf) if line)\n",
    "        y = y + list(mark_if_faulty(line) for line in (l.strip() for l in yf) if line)\n",
    "\n",
    "err_indeces_X = []\n",
    "err_indeces_y = []\n",
    "\n",
    "for i in range(0, len(X)):\n",
    "    if y[i] == \"syntax_error\":\n",
    "        err_indeces_y.append(i)\n",
    "        \n",
    "for i in range(0, len(X)):\n",
    "    if X[i] == \"syntax_error\":\n",
    "        err_indeces_X.append(i)\n",
    "        \n",
    "        \n",
    "num_err = len(set(err_indeces_y).union(set(err_indeces_X)))\n",
    "num_samples = len(y) - num_err\n",
    "\n",
    "print('Stats:')\n",
    "print(f'N(X) == N(y) == {len(y)}')\n",
    "print(f'errs: {num_err}')\n",
    "\n",
    "print(f'Clean data (N = {num_samples}) ratio: {100 - ((num_err / len(y)) * 100)}%')\n",
    "\n",
    "print('\\n')\n",
    "\n",
    "print(f'X: {X[0:1]}')\n",
    "print('\\n')\n",
    "print(f'y: {y[0:1]}')"
   ]
  },
  {
   "cell_type": "code",
   "execution_count": 175,
   "metadata": {},
   "outputs": [],
   "source": [
    "# Remove faulty data\n",
    "\n",
    "for index in sorted(list(set(err_indeces_y).union(set(err_indeces_X))), reverse=True):\n",
    "    del X[index]\n",
    "    del y[index]"
   ]
  },
  {
   "cell_type": "code",
   "execution_count": 182,
   "metadata": {},
   "outputs": [
    {
     "data": {
      "text/plain": [
       "162"
      ]
     },
     "execution_count": 182,
     "metadata": {},
     "output_type": "execute_result"
    }
   ],
   "source": [
    "input_texts = []\n",
    "target_texts = []\n",
    "input_characters = set()\n",
    "target_characters = set()\n",
    "\n",
    "for i in range(0, len(X)):\n",
    "    input_text, target_text = X[i], y[i]\n",
    "    # We use \"tab\" as the \"start sequence\" character\n",
    "    # for the targets, and \"\\n\" as \"end sequence\" character.\n",
    "    target_text = '\\t' + target_text + '\\n'\n",
    "    input_texts.append(input_text)\n",
    "    target_texts.append(target_text)\n",
    "    for char in input_text:\n",
    "        if char not in input_characters:\n",
    "            input_characters.add(char)\n",
    "    for char in target_text:\n",
    "        if char not in target_characters:\n",
    "            target_characters.add(char)\n",
    "            \n",
    "input_characters = sorted(list(input_characters))\n",
    "target_characters = sorted(list(target_characters))\n",
    "num_encoder_tokens = len(input_characters)\n",
    "num_decoder_tokens = len(target_characters)\n",
    "max_encoder_seq_length = max([len(txt) for txt in input_texts])\n",
    "max_decoder_seq_length = max([len(txt) for txt in target_texts])\n",
    "\n",
    "max_decoder_seq_length"
   ]
  },
  {
   "cell_type": "code",
   "execution_count": 183,
   "metadata": {},
   "outputs": [],
   "source": [
    "input_token_index = dict(\n",
    "    [(char, i) for i, char in enumerate(X_chars)])\n",
    "target_token_index = dict(\n",
    "    [(char, i) for i, char in enumerate(y_chars)])\n",
    "\n",
    "encoder_input_data = np.zeros(\n",
    "    (len(X), max_len_X, len(X_chars)),\n",
    "    dtype='float32')\n",
    "decoder_input_data = np.zeros(\n",
    "    (len(X), max_len_y, len(y_chars)),\n",
    "    dtype='float32')\n",
    "decoder_target_data = np.zeros(\n",
    "    (len(X), max_len_y, len(y_chars)),\n",
    "    dtype='float32')"
   ]
  },
  {
   "cell_type": "code",
   "execution_count": 184,
   "metadata": {},
   "outputs": [],
   "source": [
    "for i, (input_text, target_text) in enumerate(zip(X, y)):\n",
    "    for t, char in enumerate(input_text):\n",
    "        encoder_input_data[i, t, input_token_index[char]] = 1.\n",
    "    encoder_input_data[i, t + 1:, input_token_index[' ']] = 1.\n",
    "    for t, char in enumerate(target_text):\n",
    "        # decoder_target_data is ahead of decoder_input_data by one timestep\n",
    "        decoder_input_data[i, t, target_token_index[char]] = 1.\n",
    "        if t > 0:\n",
    "            # decoder_target_data will be ahead by one timestep\n",
    "            # and will not include the start character.\n",
    "            decoder_target_data[i, t - 1, target_token_index[char]] = 1.\n",
    "    decoder_input_data[i, t + 1:, target_token_index[' ']] = 1.\n",
    "    decoder_target_data[i, t:, target_token_index[' ']] = 1."
   ]
  },
  {
   "cell_type": "code",
   "execution_count": 192,
   "metadata": {},
   "outputs": [
    {
     "name": "stdout",
     "output_type": "stream",
     "text": [
      "Model: \"functional_11\"\n",
      "__________________________________________________________________________________________________\n",
      "Layer (type)                    Output Shape         Param #     Connected to                     \n",
      "==================================================================================================\n",
      "input_13 (InputLayer)           [(None, None, 66)]   0                                            \n",
      "__________________________________________________________________________________________________\n",
      "input_14 (InputLayer)           [(None, None, 53)]   0                                            \n",
      "__________________________________________________________________________________________________\n",
      "lstm_10 (LSTM)                  [(None, 300), (None, 440400      input_13[0][0]                   \n",
      "__________________________________________________________________________________________________\n",
      "lstm_11 (LSTM)                  [(None, None, 300),  424800      input_14[0][0]                   \n",
      "                                                                 lstm_10[0][1]                    \n",
      "                                                                 lstm_10[0][2]                    \n",
      "__________________________________________________________________________________________________\n",
      "dense_5 (Dense)                 (None, None, 53)     15953       lstm_11[0][0]                    \n",
      "==================================================================================================\n",
      "Total params: 881,153\n",
      "Trainable params: 881,153\n",
      "Non-trainable params: 0\n",
      "__________________________________________________________________________________________________\n",
      "None\n"
     ]
    }
   ],
   "source": [
    "from keras.models import Model\n",
    "from keras.layers import Input, LSTM, Dense\n",
    "from livelossplot import PlotLossesKeras\n",
    "\n",
    "batch_size = 64  # Batch size for training.\n",
    "epochs = 100  # Number of epochs to train for.\n",
    "latent_dim = 300  # Latent dimensionality of the encoding space.\n",
    "num_samples = 37827  # Number of samples to train on.\n",
    "\n",
    "encoder_inputs = Input(shape=(None, num_encoder_tokens))\n",
    "encoder = LSTM(latent_dim, return_state=True)\n",
    "encoder_outputs, state_h, state_c = encoder(encoder_inputs)\n",
    "# We discard `encoder_outputs` and only keep the states.\n",
    "encoder_states = [state_h, state_c]\n",
    "\n",
    "# Set up the decoder, using `encoder_states` as initial state.\n",
    "decoder_inputs = Input(shape=(None, num_decoder_tokens))\n",
    "# We set up our decoder to return full output sequences,\n",
    "# and to return internal states as well. We don't use the\n",
    "# return states in the training model, but we will use them in inference.\n",
    "decoder_lstm = LSTM(latent_dim, return_sequences=True, return_state=True)\n",
    "decoder_outputs, _, _ = decoder_lstm(decoder_inputs,\n",
    "                                     initial_state=encoder_states)\n",
    "decoder_dense = Dense(num_decoder_tokens, activation='softmax')\n",
    "decoder_outputs = decoder_dense(decoder_outputs)\n",
    "\n",
    "# Define the model that will turn\n",
    "# `encoder_input_data` & `decoder_input_data` into `decoder_target_data`\n",
    "model = Model([encoder_inputs, decoder_inputs], decoder_outputs)\n",
    "\n",
    "# Run training\n",
    "model.compile(optimizer='rmsprop', loss='categorical_crossentropy',\n",
    "              metrics=['accuracy'])\n",
    "print(model.summary())"
   ]
  },
  {
   "cell_type": "code",
   "execution_count": null,
   "metadata": {},
   "outputs": [
    {
     "name": "stdout",
     "output_type": "stream",
     "text": [
      "Epoch 1/100\n",
      "318/474 [===================>..........] - ETA: 1:57 - loss: 0.8445 - accuracy: 0.7910"
     ]
    }
   ],
   "source": [
    "model.fit([encoder_input_data, decoder_input_data], decoder_target_data,\n",
    "          batch_size=batch_size,\n",
    "          epochs=epochs,\n",
    "          validation_split=0.2, callbacks=[PlotLossesKeras()])\n",
    "# Save model\n",
    "model.save('s2s.h5')"
   ]
  }
 ],
 "metadata": {
  "kernelspec": {
   "display_name": "Python 3",
   "language": "python",
   "name": "python3"
  },
  "language_info": {
   "codemirror_mode": {
    "name": "ipython",
    "version": 3
   },
   "file_extension": ".py",
   "mimetype": "text/x-python",
   "name": "python",
   "nbconvert_exporter": "python",
   "pygments_lexer": "ipython3",
   "version": "3.8.5"
  }
 },
 "nbformat": 4,
 "nbformat_minor": 4
}
