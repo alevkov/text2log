{
 "cells": [
  {
   "cell_type": "code",
   "execution_count": 1,
   "metadata": {},
   "outputs": [],
   "source": [
    "import tensorflow as tf"
   ]
  },
  {
   "cell_type": "code",
   "execution_count": 2,
   "metadata": {},
   "outputs": [],
   "source": [
    "import matplotlib.pyplot as plt\n",
    "import numpy as np\n",
    "import pandas as pd"
   ]
  },
  {
   "cell_type": "markdown",
   "metadata": {},
   "source": [
    "# Clean and visualize data set"
   ]
  },
  {
   "cell_type": "code",
   "execution_count": 3,
   "metadata": {},
   "outputs": [
    {
     "name": "stdout",
     "output_type": "stream",
     "text": [
      "Stats:\n",
      "N(X) == N(y) == 27517\n",
      "errs: 729\n",
      "Clean data (N = 26788) ratio: 97.3507286404768%\n",
      "\n",
      "\n",
      "X: ['some engineers were astronauts']\n",
      "\n",
      "\n",
      "y: ['exists x1.(_engineer(x1) & exists x2.(_astronaut(x2) & (x1 = x2)))']\n"
     ]
    }
   ],
   "source": [
    "invalid_chars = set([':', '+', '#', '@', 'Ö', 'á', 'ä', 'é', 'í', 'ñ', 'ó', 'ö', 'ú', 'ā', 'Ć', 'ć', 'ʻ', '́', 'е', 'н', 'о', 'п', 'у', 'ш'])\n",
    "X_dir = 'dat/clean/'\n",
    "y_dir = 'dat/trans/'\n",
    "X = []\n",
    "y = []\n",
    "\n",
    "def mark_if_faulty(line, X=False):\n",
    "    if '\\\\F' in line or 'TrueP' in line or '\\\\x' in line:\n",
    "        return 'syntax_error'\n",
    "    if any((c in invalid_chars) for c in line):\n",
    "        return 'syntax_error'\n",
    "    if X:\n",
    "        if '(' in line:\n",
    "            return 'syntax_error'\n",
    "        if '_' in line and line != 'syntax_error':\n",
    "            return 'syntax_error'\n",
    "    return line if X else line\n",
    "\n",
    "for i in range(1, 11):\n",
    "    X_fname = X_dir + f'concordance_{i}_clean.txt'\n",
    "    y_name = y_dir + f'concordance_{i}_clean.lam'\n",
    "    \n",
    "    with open(X_fname) as Xf, open(y_name) as yf:\n",
    "        X = X + list(mark_if_faulty(line[0].lower() + line[1:-1], True) for line in (l.strip() for l in Xf) if line)\n",
    "        y = y + list(mark_if_faulty(line) for line in (l.strip() for l in yf) if line)\n",
    "\n",
    "err_indeces_X = []\n",
    "err_indeces_y = []\n",
    "\n",
    "for i in range(0, len(X)):\n",
    "    if y[i] == \"syntax_error\":\n",
    "        err_indeces_y.append(i)\n",
    "        \n",
    "for i in range(0, len(X)):\n",
    "    if X[i] == \"syntax_error\":\n",
    "        err_indeces_X.append(i)\n",
    "        \n",
    "        \n",
    "num_err = len(set(err_indeces_y).union(set(err_indeces_X)))\n",
    "num_samples = len(y) - num_err\n",
    "\n",
    "print('Stats:')\n",
    "print(f'N(X) == N(y) == {len(y)}')\n",
    "print(f'errs: {num_err}')\n",
    "\n",
    "print(f'Clean data (N = {num_samples}) ratio: {100 - ((num_err / len(y)) * 100)}%')\n",
    "\n",
    "print('\\n')\n",
    "\n",
    "print(f'X: {X[0:1]}')\n",
    "print('\\n')\n",
    "print(f'y: {y[0:1]}')"
   ]
  },
  {
   "cell_type": "code",
   "execution_count": 4,
   "metadata": {},
   "outputs": [],
   "source": [
    "# Remove faulty data\n",
    "\n",
    "for index in sorted(list(set(err_indeces_y).union(set(err_indeces_X))), reverse=True):\n",
    "    del X[index]\n",
    "    del y[index]"
   ]
  },
  {
   "cell_type": "code",
   "execution_count": 14,
   "metadata": {},
   "outputs": [
    {
     "name": "stdout",
     "output_type": "stream",
     "text": [
      "Number of samples: 26788\n",
      "Number of unique input tokens: 66\n",
      "Number of unique output tokens: 53\n",
      "Max sequence length for inputs: 63\n",
      "Max sequence length for outputs: 162\n"
     ]
    }
   ],
   "source": [
    "# Vectorize the data.\n",
    "input_texts = []\n",
    "target_texts = []\n",
    "input_characters = set()\n",
    "target_characters = set()\n",
    "\n",
    "for i in range(0, len(X)):\n",
    "    input_text, target_text = X[i], y[i]\n",
    "    # We use \"tab\" as the \"start sequence\" character\n",
    "    # for the targets, and \"\\n\" as \"end sequence\" character.\n",
    "    target_text = '\\t' + target_text + '\\n'\n",
    "    input_texts.append(input_text)\n",
    "    target_texts.append(target_text)\n",
    "    \n",
    "    for char in input_text:\n",
    "        if char not in input_characters:\n",
    "            input_characters.add(char)\n",
    "    for char in target_text:\n",
    "        if char not in target_characters:\n",
    "            target_characters.add(char)\n",
    "            \n",
    "input_characters = sorted(list(input_characters))\n",
    "target_characters = sorted(list(target_characters))\n",
    "num_encoder_tokens = len(input_characters)\n",
    "num_decoder_tokens = len(target_characters)\n",
    "max_encoder_seq_length = max([len(txt) for txt in input_texts])\n",
    "max_decoder_seq_length = max([len(txt) for txt in target_texts])\n",
    "\n",
    "print('Number of samples:', len(input_texts))\n",
    "print('Number of unique input tokens:', num_encoder_tokens)\n",
    "print('Number of unique output tokens:', num_decoder_tokens)\n",
    "print('Max sequence length for inputs:', max_encoder_seq_length)\n",
    "print('Max sequence length for outputs:', max_decoder_seq_length)"
   ]
  },
  {
   "cell_type": "code",
   "execution_count": 6,
   "metadata": {},
   "outputs": [],
   "source": [
    "# char to index\n",
    "input_token_index = dict([(char, i) for i, char in enumerate(input_characters)])\n",
    "target_token_index = dict([(char, i) for i, char in enumerate(target_characters)])\n",
    "\n",
    "encoder_input_data = np.zeros((len(X), max_encoder_seq_length, num_encoder_tokens), dtype='float32')\n",
    "decoder_input_data = np.zeros((len(X), max_decoder_seq_length, num_decoder_tokens), dtype='float32')\n",
    "decoder_target_data = np.zeros((len(X), max_decoder_seq_length, num_decoder_tokens), dtype='float32')"
   ]
  },
  {
   "cell_type": "code",
   "execution_count": 7,
   "metadata": {},
   "outputs": [],
   "source": [
    "for i, (input_text, target_text) in enumerate(zip(input_texts, target_texts)):\n",
    "    for t, char in enumerate(input_text):\n",
    "        encoder_input_data[i, t, input_token_index[char]] = 1.\n",
    "    encoder_input_data[i, t + 1:, input_token_index[' ']] = 1.\n",
    "    for t, char in enumerate(target_text):\n",
    "        # decoder_target_data is ahead of decoder_input_data by one timestep\n",
    "        decoder_input_data[i, t, target_token_index[char]] = 1.\n",
    "        if t > 0:\n",
    "            # decoder_target_data will be ahead by one timestep\n",
    "            # and will not include the start character.\n",
    "            decoder_target_data[i, t - 1, target_token_index[char]] = 1.\n",
    "    decoder_input_data[i, t + 1:, target_token_index[' ']] = 1.\n",
    "    decoder_target_data[i, t:, target_token_index[' ']] = 1."
   ]
  },
  {
   "cell_type": "code",
   "execution_count": 15,
   "metadata": {},
   "outputs": [
    {
     "name": "stdout",
     "output_type": "stream",
     "text": [
      "Model: \"functional_5\"\n",
      "__________________________________________________________________________________________________\n",
      "Layer (type)                    Output Shape         Param #     Connected to                     \n",
      "==================================================================================================\n",
      "input_5 (InputLayer)            [(None, None, 65)]   0                                            \n",
      "__________________________________________________________________________________________________\n",
      "input_6 (InputLayer)            [(None, None, 53)]   0                                            \n",
      "__________________________________________________________________________________________________\n",
      "encoder (LSTM)                  [(None, 256), (None, 329728      input_5[0][0]                    \n",
      "__________________________________________________________________________________________________\n",
      "decoder (LSTM)                  [(None, None, 256),  317440      input_6[0][0]                    \n",
      "                                                                 encoder[0][1]                    \n",
      "                                                                 encoder[0][2]                    \n",
      "__________________________________________________________________________________________________\n",
      "dense_2 (Dense)                 (None, None, 53)     13621       decoder[0][0]                    \n",
      "==================================================================================================\n",
      "Total params: 660,789\n",
      "Trainable params: 660,789\n",
      "Non-trainable params: 0\n",
      "__________________________________________________________________________________________________\n",
      "None\n"
     ]
    }
   ],
   "source": [
    "from keras.models import Model\n",
    "from keras.layers import Input, LSTM, Dense, GRU, RNN, SimpleRNN, Masking\n",
    "from livelossplot import PlotLossesKeras\n",
    "from keras.utils.vis_utils import plot_model\n",
    "\n",
    "latent_dim = 256\n",
    "batch_size = 64  # Batch size for training.\n",
    "epochs = 420  # Number of epochs to train for.\n",
    "\n",
    "# Define an input sequence and process it.\n",
    "encoder_inputs = Input(shape=(None, num_encoder_tokens))\n",
    "encoder = LSTM(latent_dim, recurrent_dropout= 0.6, return_state=True, name=\"encoder\")\n",
    "encoder_outputs, state_h, state_c = encoder(encoder_inputs)\n",
    "# We discard `encoder_outputs` and only keep the states.\n",
    "encoder_states = [state_h, state_c]\n",
    "\n",
    "# Set up the decoder, using `encoder_states` as initial state.\n",
    "decoder_inputs = Input(shape=(None, num_decoder_tokens))\n",
    "# We set up our decoder to return full output sequences,\n",
    "# and to return internal states as well. We don't use the\n",
    "# return states in the training model, but we will use them in inference.\n",
    "decoder_lstm = LSTM(latent_dim, recurrent_dropout= 0.6, return_sequences=True, return_state=True, name=\"decoder\")\n",
    "decoder_outputs, _, _ = decoder_lstm(decoder_inputs,\n",
    "                                     initial_state=encoder_states)\n",
    "decoder_dense = Dense(num_decoder_tokens, activation='softmax')\n",
    "decoder_outputs = decoder_dense(decoder_outputs)\n",
    "\n",
    "callback = tf.keras.callbacks.EarlyStopping(patience=10, monitor='loss')\n",
    "\n",
    "# Define the model that will turn\n",
    "# `encoder_input_data` & `decoder_input_data` into `decoder_target_data`\n",
    "model = Model([encoder_inputs, decoder_inputs], decoder_outputs)\n",
    "\n",
    "model.compile(optimizer='rmsprop', loss='categorical_crossentropy',\n",
    "              metrics=['accuracy'])\n",
    "\n",
    "print(model.summary())"
   ]
  },
  {
   "cell_type": "code",
   "execution_count": 16,
   "metadata": {},
   "outputs": [
    {
     "data": {
      "image/png": "[encoded data removed]",
      "text/plain": [
       "<IPython.core.display.Image object>"
      ]
     },
     "execution_count": 16,
     "metadata": {},
     "output_type": "execute_result"
    }
   ],
   "source": [
    "tf.keras.utils.plot_model(\n",
    "    model,\n",
    "    to_file=\"model.png\",\n",
    "    show_shapes=True,\n",
    "    show_layer_names=True,\n",
    "    rankdir=\"TB\",\n",
    "    expand_nested=True,\n",
    "    dpi=96,\n",
    ")"
   ]
  },
  {
   "cell_type": "code",
   "execution_count": null,
   "metadata": {},
   "outputs": [],
   "source": [
    "model.fit([encoder_input_data, decoder_input_data], decoder_target_data,\n",
    "          batch_size=batch_size,\n",
    "          epochs=epochs,\n",
    "          validation_split=0.2, callbacks=[PlotLossesKeras()])\n",
    "# Save model\n",
    "model.save('s2s.h5')"
   ]
  },
  {
   "cell_type": "code",
   "execution_count": null,
   "metadata": {},
   "outputs": [],
   "source": []
  }
 ],
 "metadata": {
  "kernelspec": {
   "display_name": "Python 3",
   "language": "python",
   "name": "python3"
  },
  "language_info": {
   "codemirror_mode": {
    "name": "ipython",
    "version": 3
   },
   "file_extension": ".py",
   "mimetype": "text/x-python",
   "name": "python",
   "nbconvert_exporter": "python",
   "pygments_lexer": "ipython3",
   "version": "3.8.5"
  }
 },
 "nbformat": 4,
 "nbformat_minor": 4
}
